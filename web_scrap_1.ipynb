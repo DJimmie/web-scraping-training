{
 "cells": [
  {
   "cell_type": "markdown",
   "metadata": {},
   "source": [
    "# Dependancies"
   ]
  },
  {
   "cell_type": "code",
   "execution_count": 24,
   "metadata": {
    "ExecuteTime": {
     "end_time": "2019-10-14T05:05:07.009123Z",
     "start_time": "2019-10-14T05:05:07.003123Z"
    },
    "collapsed": true
   },
   "outputs": [],
   "source": [
    "import pandas as pd\n",
    "import numpy as np\n",
    "import matplotlib.pyplot as plt\n",
    "import seaborn as sns"
   ]
  },
  {
   "cell_type": "code",
   "execution_count": 25,
   "metadata": {
    "ExecuteTime": {
     "end_time": "2019-10-14T05:05:07.052126Z",
     "start_time": "2019-10-14T05:05:07.046125Z"
    },
    "collapsed": true
   },
   "outputs": [],
   "source": [
    "from urllib.request import urlopen\n",
    "from bs4 import BeautifulSoup"
   ]
  },
  {
   "cell_type": "code",
   "execution_count": 26,
   "metadata": {
    "ExecuteTime": {
     "end_time": "2019-10-14T05:05:07.071127Z",
     "start_time": "2019-10-14T05:05:07.066126Z"
    },
    "collapsed": true
   },
   "outputs": [],
   "source": [
    "import datetime as dt\n",
    "import time"
   ]
  },
  {
   "cell_type": "code",
   "execution_count": 27,
   "metadata": {
    "ExecuteTime": {
     "end_time": "2019-10-14T05:05:07.084127Z",
     "start_time": "2019-10-14T05:05:07.075127Z"
    },
    "collapsed": true
   },
   "outputs": [],
   "source": [
    "import re"
   ]
  },
  {
   "cell_type": "markdown",
   "metadata": {},
   "source": [
    "# Functions"
   ]
  },
  {
   "cell_type": "code",
   "execution_count": 28,
   "metadata": {
    "ExecuteTime": {
     "end_time": "2019-10-14T05:05:07.206134Z",
     "start_time": "2019-10-14T05:05:07.192134Z"
    },
    "collapsed": true
   },
   "outputs": [],
   "source": [
    "def open_site():\n",
    "    global html,soup\n",
    "    html = urlopen(url)\n",
    "    soup = BeautifulSoup(html, 'lxml')"
   ]
  },
  {
   "cell_type": "code",
   "execution_count": 29,
   "metadata": {
    "ExecuteTime": {
     "end_time": "2019-10-14T05:05:07.237136Z",
     "start_time": "2019-10-14T05:05:07.211135Z"
    },
    "collapsed": true
   },
   "outputs": [],
   "source": [
    "def access_site(url):\n",
    "    \n",
    "    t1=soup.find_all('title')\n",
    "    for t in t1:\n",
    "        print(f'Title:{t.get_text()}\\n')\n",
    "    \n",
    "    try:\n",
    "        t2=soup.h1.get_text()\n",
    "        print(f'h1 Text: {t2}\\n')\n",
    "    except AttributeError as e:\n",
    "        print(f'Received the following error message while trying to get the h1 tag:\\n{e}\\n')\n",
    "    \n",
    "   "
   ]
  },
  {
   "cell_type": "code",
   "execution_count": 30,
   "metadata": {
    "ExecuteTime": {
     "end_time": "2019-10-14T05:05:07.255137Z",
     "start_time": "2019-10-14T05:05:07.241136Z"
    },
    "collapsed": true
   },
   "outputs": [],
   "source": [
    "def get_all_href(url):\n",
    "    \n",
    "    all_links = soup.find_all(\"a\")\n",
    "    for link in all_links:\n",
    "        print(link.get(\"href\"))\n",
    "    "
   ]
  },
  {
   "cell_type": "code",
   "execution_count": 31,
   "metadata": {
    "ExecuteTime": {
     "end_time": "2019-10-14T05:05:07.283139Z",
     "start_time": "2019-10-14T05:05:07.258137Z"
    },
    "collapsed": true
   },
   "outputs": [],
   "source": [
    "def html_structure(url):\n",
    "#     print(soup.prettify())\n",
    "    \n",
    "    print(f'title:{soup.title}\\n')\n",
    "    \n",
    "    print(f'title name:{soup.title.name}\\n')\n",
    "    \n",
    "    print(f'title string:{soup.title.string}\\n')\n",
    "    \n",
    "    print(f'title parent name:{soup.title.parent.name}\\n')\n",
    "    \n",
    "    print(f'p:{soup.p}\\n')\n",
    "\n",
    "    print(f'p[class]:{soup.p[\"class\"]}\\n')\n",
    "    "
   ]
  },
  {
   "cell_type": "code",
   "execution_count": 32,
   "metadata": {
    "ExecuteTime": {
     "end_time": "2019-10-14T05:05:07.307140Z",
     "start_time": "2019-10-14T05:05:07.287139Z"
    },
    "collapsed": true
   },
   "outputs": [],
   "source": [
    "def find_specific_value(tag,attrb):\n",
    "    \n",
    "    text_in_list=[]\n",
    "    L=soup.find_all(tag,attrs=attrb)\n",
    "    for m in L:\n",
    "#         print(f'{m.text}\\n')\n",
    "        text_in_list.append(m.text)\n",
    "    \n",
    "#     print(f'test list:\\n{text_in_list}')\n",
    "#     print(f'With tags:\\n{L}')\n",
    "    \n",
    "    return text_in_list\n",
    " "
   ]
  },
  {
   "cell_type": "markdown",
   "metadata": {},
   "source": [
    "# Main"
   ]
  },
  {
   "cell_type": "code",
   "execution_count": 33,
   "metadata": {
    "ExecuteTime": {
     "end_time": "2019-10-14T05:05:07.382144Z",
     "start_time": "2019-10-14T05:05:07.371144Z"
    },
    "collapsed": true
   },
   "outputs": [],
   "source": [
    "url = \"http://www.hubertiming.com/results/2017GPTR10K\"\n",
    "url = \"https://finance.yahoo.com/quote/AMZN?p=AMZN&.tsrc=fin-srch\"\n",
    "url=\"https://finance.yahoo.com/lookup/\"\n",
    "url=\"https://finance.yahoo.com/\"\n",
    "# url=\"https://www.flipkart.com/laptops/~buyback-guarantee-on-laptops-/pr?sid=6bo%2Cb5g&uniqBStoreParam1=val1&wid=11.productCard.PMU_V2\"\n",
    "# url=\"https://www.edureka.co/blog/web-scraping-with-python\"\n"
   ]
  },
  {
   "cell_type": "code",
   "execution_count": 34,
   "metadata": {
    "ExecuteTime": {
     "end_time": "2019-10-14T05:05:08.974236Z",
     "start_time": "2019-10-14T05:05:07.386145Z"
    },
    "collapsed": true
   },
   "outputs": [],
   "source": [
    "global html,soup\n",
    "html = urlopen(url)\n",
    "soup = BeautifulSoup(html, 'lxml')"
   ]
  },
  {
   "cell_type": "code",
   "execution_count": 35,
   "metadata": {
    "ExecuteTime": {
     "end_time": "2019-10-14T05:05:08.997237Z",
     "start_time": "2019-10-14T05:05:08.978236Z"
    },
    "scrolled": true
   },
   "outputs": [
    {
     "name": "stdout",
     "output_type": "stream",
     "text": [
      "Title:Yahoo Finance - Business Finance, Stock Market, Quotes, News\n",
      "\n",
      "Received the following error message while trying to get the h1 tag:\n",
      "'NoneType' object has no attribute 'get_text'\n",
      "\n"
     ]
    }
   ],
   "source": [
    "access_site(url=url)"
   ]
  },
  {
   "cell_type": "code",
   "execution_count": 36,
   "metadata": {
    "ExecuteTime": {
     "end_time": "2019-10-14T05:05:09.038239Z",
     "start_time": "2019-10-14T05:05:09.000237Z"
    },
    "scrolled": false
   },
   "outputs": [
    {
     "name": "stdout",
     "output_type": "stream",
     "text": [
      "Bitcoin Price:8,293.36\n"
     ]
    }
   ],
   "source": [
    "tag='div'\n",
    "\n",
    "tag='a'\n",
    "tag='td'\n",
    "tag='span'\n",
    "attrb={'class':{'_3wU53n','hGSR34','_1vC4OE _2rQ-NK'}}\n",
    "attrb={'class':[\"Trsdu(0.3s)\", \"Fz(s)\", \"Mt(4px)\", \"Mb(0px)\", \"Fw(b)\", \"D(ib)\"]}\n",
    "attrb={'class':[\"Trsdu(0.3s)\", \"Fw(500)\"]}\n",
    "# attrb={'data-reactid':'31'}\n",
    "text_items=find_specific_value(tag=tag,attrb=attrb)\n",
    "\n",
    "bcp=text_items[24]\n",
    "print(f'Bitcoin Price:{bcp}')"
   ]
  },
  {
   "cell_type": "code",
   "execution_count": null,
   "metadata": {
    "collapsed": true,
    "deletable": false,
    "editable": false,
    "run_control": {
     "frozen": true
    },
    "scrolled": false
   },
   "outputs": [],
   "source": [
    "get_all_href(url=url)"
   ]
  },
  {
   "cell_type": "code",
   "execution_count": null,
   "metadata": {
    "collapsed": true,
    "deletable": false,
    "editable": false,
    "run_control": {
     "frozen": true
    },
    "scrolled": false
   },
   "outputs": [],
   "source": [
    "html_structure(url=url)"
   ]
  },
  {
   "cell_type": "code",
   "execution_count": null,
   "metadata": {
    "collapsed": true,
    "deletable": false,
    "editable": false,
    "run_control": {
     "frozen": true
    }
   },
   "outputs": [],
   "source": [
    "L=soup.find_all(tag,attrs=attrb)\n",
    "for m in L:\n",
    "    print(m.text)"
   ]
  },
  {
   "cell_type": "markdown",
   "metadata": {},
   "source": [
    "# Extras"
   ]
  },
  {
   "cell_type": "code",
   "execution_count": 37,
   "metadata": {
    "ExecuteTime": {
     "end_time": "2019-10-14T06:45:33.147993Z",
     "start_time": "2019-10-14T05:05:17.653732Z"
    }
   },
   "outputs": [
    {
     "name": "stdout",
     "output_type": "stream",
     "text": [
      "{'2019-10-14,00-05-19': '8,293.36'}\n",
      "{'2019-10-14,00-05-19': '8,293.36', '2019-10-14,00-15-21': '8,303.82'}\n",
      "{'2019-10-14,00-05-19': '8,293.36', '2019-10-14,00-15-21': '8,303.82', '2019-10-14,00-25-22': '8,301.13'}\n",
      "{'2019-10-14,00-05-19': '8,293.36', '2019-10-14,00-15-21': '8,303.82', '2019-10-14,00-25-22': '8,301.13', '2019-10-14,00-35-23': '8,324.27'}\n",
      "{'2019-10-14,00-05-19': '8,293.36', '2019-10-14,00-15-21': '8,303.82', '2019-10-14,00-25-22': '8,301.13', '2019-10-14,00-35-23': '8,324.27', '2019-10-14,00-45-25': '8,329.45'}\n",
      "{'2019-10-14,00-05-19': '8,293.36', '2019-10-14,00-15-21': '8,303.82', '2019-10-14,00-25-22': '8,301.13', '2019-10-14,00-35-23': '8,324.27', '2019-10-14,00-45-25': '8,329.45', '2019-10-14,00-55-26': '8,336.25'}\n",
      "{'2019-10-14,00-05-19': '8,293.36', '2019-10-14,00-15-21': '8,303.82', '2019-10-14,00-25-22': '8,301.13', '2019-10-14,00-35-23': '8,324.27', '2019-10-14,00-45-25': '8,329.45', '2019-10-14,00-55-26': '8,336.25', '2019-10-14,01-05-28': '8,345.30'}\n",
      "{'2019-10-14,00-05-19': '8,293.36', '2019-10-14,00-15-21': '8,303.82', '2019-10-14,00-25-22': '8,301.13', '2019-10-14,00-35-23': '8,324.27', '2019-10-14,00-45-25': '8,329.45', '2019-10-14,00-55-26': '8,336.25', '2019-10-14,01-05-28': '8,345.30', '2019-10-14,01-15-29': '8,346.84'}\n",
      "{'2019-10-14,00-05-19': '8,293.36', '2019-10-14,00-15-21': '8,303.82', '2019-10-14,00-25-22': '8,301.13', '2019-10-14,00-35-23': '8,324.27', '2019-10-14,00-45-25': '8,329.45', '2019-10-14,00-55-26': '8,336.25', '2019-10-14,01-05-28': '8,345.30', '2019-10-14,01-15-29': '8,346.84', '2019-10-14,01-25-31': '8,336.54'}\n",
      "{'2019-10-14,00-05-19': '8,293.36', '2019-10-14,00-15-21': '8,303.82', '2019-10-14,00-25-22': '8,301.13', '2019-10-14,00-35-23': '8,324.27', '2019-10-14,00-45-25': '8,329.45', '2019-10-14,00-55-26': '8,336.25', '2019-10-14,01-05-28': '8,345.30', '2019-10-14,01-15-29': '8,346.84', '2019-10-14,01-25-31': '8,336.54', '2019-10-14,01-35-33': '8,326.68'}\n"
     ]
    }
   ],
   "source": [
    "a={}\n",
    "for q in range(10):\n",
    "\n",
    "    open_site()\n",
    "\n",
    "    text_items=find_specific_value(tag=tag,attrb=attrb)\n",
    "    bcp=text_items[24]\n",
    "    now=dt.datetime.today().strftime('%Y-%m-%d,%H-%M-%S')\n",
    "    a[now]=bcp\n",
    "\n",
    "    print(a)\n",
    "    \n",
    "    time.sleep(600)\n",
    "    \n",
    "df=pd.DataFrame.from_dict(a,orient='index',columns=['Price'])   "
   ]
  },
  {
   "cell_type": "code",
   "execution_count": null,
   "metadata": {
    "ExecuteTime": {
     "end_time": "2019-10-14T04:59:41.361497Z",
     "start_time": "2019-10-14T04:59:41.351497Z"
    }
   },
   "outputs": [],
   "source": []
  },
  {
   "cell_type": "code",
   "execution_count": 38,
   "metadata": {
    "ExecuteTime": {
     "end_time": "2019-10-14T10:14:31.276714Z",
     "start_time": "2019-10-14T10:14:31.246713Z"
    }
   },
   "outputs": [
    {
     "data": {
      "text/html": [
       "<div>\n",
       "<style scoped>\n",
       "    .dataframe tbody tr th:only-of-type {\n",
       "        vertical-align: middle;\n",
       "    }\n",
       "\n",
       "    .dataframe tbody tr th {\n",
       "        vertical-align: top;\n",
       "    }\n",
       "\n",
       "    .dataframe thead th {\n",
       "        text-align: right;\n",
       "    }\n",
       "</style>\n",
       "<table border=\"1\" class=\"dataframe\">\n",
       "  <thead>\n",
       "    <tr style=\"text-align: right;\">\n",
       "      <th></th>\n",
       "      <th>Price</th>\n",
       "    </tr>\n",
       "  </thead>\n",
       "  <tbody>\n",
       "    <tr>\n",
       "      <th>2019-10-14,00-05-19</th>\n",
       "      <td>8,293.36</td>\n",
       "    </tr>\n",
       "    <tr>\n",
       "      <th>2019-10-14,00-15-21</th>\n",
       "      <td>8,303.82</td>\n",
       "    </tr>\n",
       "    <tr>\n",
       "      <th>2019-10-14,00-25-22</th>\n",
       "      <td>8,301.13</td>\n",
       "    </tr>\n",
       "    <tr>\n",
       "      <th>2019-10-14,00-35-23</th>\n",
       "      <td>8,324.27</td>\n",
       "    </tr>\n",
       "    <tr>\n",
       "      <th>2019-10-14,00-45-25</th>\n",
       "      <td>8,329.45</td>\n",
       "    </tr>\n",
       "    <tr>\n",
       "      <th>2019-10-14,00-55-26</th>\n",
       "      <td>8,336.25</td>\n",
       "    </tr>\n",
       "    <tr>\n",
       "      <th>2019-10-14,01-05-28</th>\n",
       "      <td>8,345.30</td>\n",
       "    </tr>\n",
       "    <tr>\n",
       "      <th>2019-10-14,01-15-29</th>\n",
       "      <td>8,346.84</td>\n",
       "    </tr>\n",
       "    <tr>\n",
       "      <th>2019-10-14,01-25-31</th>\n",
       "      <td>8,336.54</td>\n",
       "    </tr>\n",
       "    <tr>\n",
       "      <th>2019-10-14,01-35-33</th>\n",
       "      <td>8,326.68</td>\n",
       "    </tr>\n",
       "  </tbody>\n",
       "</table>\n",
       "</div>"
      ],
      "text/plain": [
       "                        Price\n",
       "2019-10-14,00-05-19  8,293.36\n",
       "2019-10-14,00-15-21  8,303.82\n",
       "2019-10-14,00-25-22  8,301.13\n",
       "2019-10-14,00-35-23  8,324.27\n",
       "2019-10-14,00-45-25  8,329.45\n",
       "2019-10-14,00-55-26  8,336.25\n",
       "2019-10-14,01-05-28  8,345.30\n",
       "2019-10-14,01-15-29  8,346.84\n",
       "2019-10-14,01-25-31  8,336.54\n",
       "2019-10-14,01-35-33  8,326.68"
      ]
     },
     "execution_count": 38,
     "metadata": {},
     "output_type": "execute_result"
    }
   ],
   "source": [
    "df"
   ]
  },
  {
   "cell_type": "code",
   "execution_count": 74,
   "metadata": {
    "ExecuteTime": {
     "end_time": "2019-10-14T04:08:29.886806Z",
     "start_time": "2019-10-14T04:08:29.862805Z"
    }
   },
   "outputs": [
    {
     "data": {
      "text/plain": [
       "['2,970.27',\n",
       " '+1.09%',\n",
       " '26,816.59',\n",
       " '+1.21%',\n",
       " '8,057.04',\n",
       " '+1.34%',\n",
       " '1,511.90',\n",
       " '+1.79%',\n",
       " '54.45',\n",
       " '+1.68%',\n",
       " '1,490.70',\n",
       " '-0.68%',\n",
       " '17.61',\n",
       " '+0.05%',\n",
       " '1.1035',\n",
       " '-0.0993%',\n",
       " '1.7520',\n",
       " '+5.67%',\n",
       " '15.58',\n",
       " '-11.33%',\n",
       " '1.2603',\n",
       " '-0.2962%',\n",
       " '108.3190',\n",
       " '-0.0378%',\n",
       " '8,313.76',\n",
       " '+0.21%',\n",
       " '7,247.08',\n",
       " '+0.84%',\n",
       " '21,798.87',\n",
       " '+1.15%']"
      ]
     },
     "execution_count": 74,
     "metadata": {},
     "output_type": "execute_result"
    }
   ],
   "source": [
    "text_items"
   ]
  },
  {
   "cell_type": "code",
   "execution_count": 75,
   "metadata": {
    "ExecuteTime": {
     "end_time": "2019-10-14T04:09:41.802920Z",
     "start_time": "2019-10-14T04:09:41.793919Z"
    }
   },
   "outputs": [
    {
     "data": {
      "text/plain": [
       "24"
      ]
     },
     "execution_count": 75,
     "metadata": {},
     "output_type": "execute_result"
    }
   ],
   "source": [
    "text_items.index('8,313.76')"
   ]
  },
  {
   "cell_type": "code",
   "execution_count": 14,
   "metadata": {
    "ExecuteTime": {
     "end_time": "2019-10-14T00:25:51.174732Z",
     "start_time": "2019-10-14T00:25:51.141730Z"
    }
   },
   "outputs": [
    {
     "name": "stdout",
     "output_type": "stream",
     "text": [
      "S&P 500 has increased by 1.09% or 32.14 points to 2,970.27 points\n",
      "Dow 30 has increased by 1.21% or 319.89 points to 26,816.59 points\n",
      "Nasdaq has increased by 1.34% or 106.26 points to 8,057.04 points\n",
      "Russell 2000 has increased by 1.79% or 26.54 points to 1,511.90 points\n",
      "Crude Oil has increased by 2.20% or 1.18 points to 54.73 points\n",
      "Gold has decreased by -0.80% or -12.00 points to 1,488.90 points\n",
      "Silver has decreased by -0.49% or -0.09 points to 17.51 points\n",
      "EUR/USD has decreased by -0.1434% or -0.0016 points to 1.1030 points\n",
      "10-Yr Bond has increased by 5.67% or 0.0940 points to 1.7520 points\n",
      "Vix has decreased by -11.33% or -1.99 points to 15.58 points\n",
      "GBP/USD has decreased by -0.3050% or -0.0039 points to 1.2602 points\n",
      "USD/JPY has decreased by -0.0148% or -0.0160 points to 108.3440 points\n",
      " has decreased by -0.26% or -21.62 points to 8,274.78 points\n",
      "FTSE 100 has increased by 0.84% or 60.72 points to 7,247.08 points\n",
      "Nikkei 225 has increased by 1.15% or 246.87 points to 21,798.87 points\n"
     ]
    }
   ],
   "source": [
    "\n",
    "for t in soup.find_all('a',{'aria-label':True}):\n",
    "    print (t.get_attribute_list('aria-label')[0])\n",
    "    "
   ]
  },
  {
   "cell_type": "code",
   "execution_count": 15,
   "metadata": {
    "ExecuteTime": {
     "end_time": "2019-10-14T00:25:51.213734Z",
     "start_time": "2019-10-14T00:25:51.177732Z"
    },
    "collapsed": true
   },
   "outputs": [],
   "source": [
    "c=\"Fz(s) Ell Fw(600) C($c-fuji-blue-1-b)\"\n",
    "for k in soup.find_all(class_=\"dt-row Bgc($extraLightBlue):h BdB Bdbc($finLightGrayAlt) Bdbc($tableBorderBlue):h H(44px) \"):\n",
    "    print(f'{k.text}\\n')"
   ]
  },
  {
   "cell_type": "code",
   "execution_count": 16,
   "metadata": {
    "ExecuteTime": {
     "end_time": "2019-10-14T00:25:51.263737Z",
     "start_time": "2019-10-14T00:25:51.217734Z"
    }
   },
   "outputs": [
    {
     "data": {
      "text/plain": [
       "[]"
      ]
     },
     "execution_count": 16,
     "metadata": {},
     "output_type": "execute_result"
    }
   ],
   "source": [
    "soup.find_all(class_=\"Trsdu(0.3s) Fw(500)\")"
   ]
  },
  {
   "cell_type": "code",
   "execution_count": null,
   "metadata": {
    "collapsed": true
   },
   "outputs": [],
   "source": []
  },
  {
   "cell_type": "code",
   "execution_count": 17,
   "metadata": {
    "ExecuteTime": {
     "end_time": "2019-10-14T00:25:51.278737Z",
     "start_time": "2019-10-14T00:25:51.265737Z"
    }
   },
   "outputs": [
    {
     "name": "stdout",
     "output_type": "stream",
     "text": [
      "<span class=\"Trsdu(0.3s) Fz(s) Mb(0px) D(b)\" data-reactid=\"12\">26,816.59</span>\n",
      "\n",
      "<span class=\"Trsdu(0.3s) Fz(s) D(b) C($dataGreen)\" data-reactid=\"13\">+1.21%</span>\n",
      "\n"
     ]
    }
   ],
   "source": [
    "\n",
    "for k in soup.find('a',{'title':'Dow 30'}).find_all():\n",
    "    print(f'{k}\\n')"
   ]
  },
  {
   "cell_type": "code",
   "execution_count": 18,
   "metadata": {
    "ExecuteTime": {
     "end_time": "2019-10-14T00:25:51.326740Z",
     "start_time": "2019-10-14T00:25:51.281738Z"
    }
   },
   "outputs": [
    {
     "name": "stdout",
     "output_type": "stream",
     "text": [
      "['2,970.27']\n",
      "\n",
      "['+1.09%']\n",
      "\n",
      "['26,816.59']\n",
      "\n",
      "['+1.21%']\n",
      "\n",
      "['8,057.04']\n",
      "\n",
      "['+1.34%']\n",
      "\n",
      "['1,511.90']\n",
      "\n",
      "['+1.79%']\n",
      "\n",
      "['54.73']\n",
      "\n",
      "['+2.20%']\n",
      "\n",
      "['1,488.90']\n",
      "\n",
      "['-0.80%']\n",
      "\n",
      "['17.51']\n",
      "\n",
      "['-0.49%']\n",
      "\n",
      "['1.1030']\n",
      "\n",
      "['-0.1434%']\n",
      "\n",
      "['1.7520']\n",
      "\n",
      "['+5.67%']\n",
      "\n",
      "['15.58']\n",
      "\n",
      "['-11.33%']\n",
      "\n",
      "['1.2602']\n",
      "\n",
      "['-0.3050%']\n",
      "\n",
      "['108.3440']\n",
      "\n",
      "['-0.0148%']\n",
      "\n",
      "['8,274.78']\n",
      "\n",
      "['-0.26%']\n",
      "\n",
      "['7,247.08']\n",
      "\n",
      "['+0.84%']\n",
      "\n",
      "['21,798.87']\n",
      "\n",
      "['+1.15%']\n",
      "\n"
     ]
    }
   ],
   "source": [
    "for k in soup.find_all(tag,attrb):\n",
    "    print(f'{k.contents}\\n')"
   ]
  },
  {
   "cell_type": "code",
   "execution_count": 19,
   "metadata": {
    "ExecuteTime": {
     "end_time": "2019-10-14T00:25:51.359742Z",
     "start_time": "2019-10-14T00:25:51.329740Z"
    },
    "scrolled": false
   },
   "outputs": [
    {
     "data": {
      "text/plain": [
       "[]"
      ]
     },
     "execution_count": 19,
     "metadata": {},
     "output_type": "execute_result"
    }
   ],
   "source": [
    "soup.find_all(lambda x: x.get_text()=='Dow 30')"
   ]
  },
  {
   "cell_type": "code",
   "execution_count": 20,
   "metadata": {
    "ExecuteTime": {
     "end_time": "2019-10-14T00:25:51.387744Z",
     "start_time": "2019-10-14T00:25:51.362742Z"
    }
   },
   "outputs": [
    {
     "name": "stdout",
     "output_type": "stream",
     "text": [
      "S&P 500 has increased by 1.09% or 32.14 points to 2,970.27 points\n",
      "Dow 30 has increased by 1.21% or 319.89 points to 26,816.59 points\n",
      "Nasdaq has increased by 1.34% or 106.26 points to 8,057.04 points\n",
      "Russell 2000 has increased by 1.79% or 26.54 points to 1,511.90 points\n",
      "Crude Oil has increased by 2.20% or 1.18 points to 54.73 points\n",
      "Gold has decreased by -0.80% or -12.00 points to 1,488.90 points\n",
      "Silver has decreased by -0.49% or -0.09 points to 17.51 points\n",
      "EUR/USD has decreased by -0.1434% or -0.0016 points to 1.1030 points\n",
      "10-Yr Bond has increased by 5.67% or 0.0940 points to 1.7520 points\n",
      "Vix has decreased by -11.33% or -1.99 points to 15.58 points\n",
      "GBP/USD has decreased by -0.3050% or -0.0039 points to 1.2602 points\n",
      "USD/JPY has decreased by -0.0148% or -0.0160 points to 108.3440 points\n",
      " has decreased by -0.26% or -21.62 points to 8,274.78 points\n",
      "FTSE 100 has increased by 0.84% or 60.72 points to 7,247.08 points\n",
      "Nikkei 225 has increased by 1.15% or 246.87 points to 21,798.87 points\n"
     ]
    }
   ],
   "source": [
    "for t in soup.find_all('a',{'aria-label':True}):\n",
    "    print (t.get_attribute_list('aria-label')[0])"
   ]
  }
 ],
 "metadata": {
  "hide_input": false,
  "kernelspec": {
   "display_name": "Python 3",
   "language": "python",
   "name": "python3"
  },
  "language_info": {
   "codemirror_mode": {
    "name": "ipython",
    "version": 3
   },
   "file_extension": ".py",
   "mimetype": "text/x-python",
   "name": "python",
   "nbconvert_exporter": "python",
   "pygments_lexer": "ipython3",
   "version": "3.6.3"
  },
  "latex_envs": {
   "LaTeX_envs_menu_present": true,
   "autoclose": false,
   "autocomplete": true,
   "bibliofile": "biblio.bib",
   "cite_by": "apalike",
   "current_citInitial": 1,
   "eqLabelWithNumbers": true,
   "eqNumInitial": 1,
   "hotkeys": {
    "equation": "Ctrl-E",
    "itemize": "Ctrl-I"
   },
   "labels_anchors": false,
   "latex_user_defs": false,
   "report_style_numbering": false,
   "user_envs_cfg": false
  },
  "toc": {
   "base_numbering": 1,
   "nav_menu": {},
   "number_sections": true,
   "sideBar": true,
   "skip_h1_title": false,
   "title_cell": "Table of Contents",
   "title_sidebar": "Contents",
   "toc_cell": false,
   "toc_position": {
    "height": "calc(100% - 180px)",
    "left": "10px",
    "top": "150px",
    "width": "165px"
   },
   "toc_section_display": true,
   "toc_window_display": true
  },
  "varInspector": {
   "cols": {
    "lenName": 16,
    "lenType": 16,
    "lenVar": 40
   },
   "kernels_config": {
    "python": {
     "delete_cmd_postfix": "",
     "delete_cmd_prefix": "del ",
     "library": "var_list.py",
     "varRefreshCmd": "print(var_dic_list())"
    },
    "r": {
     "delete_cmd_postfix": ") ",
     "delete_cmd_prefix": "rm(",
     "library": "var_list.r",
     "varRefreshCmd": "cat(var_dic_list()) "
    }
   },
   "types_to_exclude": [
    "module",
    "function",
    "builtin_function_or_method",
    "instance",
    "_Feature"
   ],
   "window_display": false
  }
 },
 "nbformat": 4,
 "nbformat_minor": 2
}
