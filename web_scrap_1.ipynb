{
 "cells": [
  {
   "cell_type": "markdown",
   "metadata": {},
   "source": [
    "# Dependancies"
   ]
  },
  {
   "cell_type": "code",
   "execution_count": null,
   "metadata": {
    "collapsed": true
   },
   "outputs": [],
   "source": [
    "import pandas as pd\n",
    "import numpy as np\n",
    "import matplotlib.pyplot as plt\n",
    "import seaborn as sns"
   ]
  },
  {
   "cell_type": "code",
   "execution_count": null,
   "metadata": {
    "collapsed": true
   },
   "outputs": [],
   "source": [
    "from urllib.request import urlopen\n",
    "from bs4 import BeautifulSoup"
   ]
  },
  {
   "cell_type": "code",
   "execution_count": null,
   "metadata": {
    "collapsed": true
   },
   "outputs": [],
   "source": [
    "import datetime as dt\n",
    "import time"
   ]
  },
  {
   "cell_type": "code",
   "execution_count": null,
   "metadata": {
    "collapsed": true
   },
   "outputs": [],
   "source": [
    "import re"
   ]
  },
  {
   "cell_type": "markdown",
   "metadata": {},
   "source": [
    "# Functions"
   ]
  },
  {
   "cell_type": "code",
   "execution_count": null,
   "metadata": {
    "collapsed": true
   },
   "outputs": [],
   "source": [
    "def open_site(url):\n",
    "    global html,soup\n",
    "    html = urlopen(url)\n",
    "    soup = BeautifulSoup(html, 'lxml')"
   ]
  },
  {
   "cell_type": "code",
   "execution_count": null,
   "metadata": {
    "collapsed": true
   },
   "outputs": [],
   "source": [
    "def access_site(url):\n",
    "    \n",
    "    t1=soup.find_all('title')\n",
    "    for t in t1:\n",
    "        print(f'Title:{t.get_text()}\\n')\n",
    "    \n",
    "    try:\n",
    "        t2=soup.h1.get_text()\n",
    "        print(f'h1 Text: {t2}\\n')\n",
    "    except AttributeError as e:\n",
    "        print(f'Received the following error message while trying to get the h1 tag:\\n{e}\\n')\n",
    "    \n",
    "   "
   ]
  },
  {
   "cell_type": "code",
   "execution_count": null,
   "metadata": {
    "collapsed": true
   },
   "outputs": [],
   "source": [
    "def get_all_href(url):\n",
    "    \n",
    "    all_links = soup.find_all(\"a\")\n",
    "    for link in all_links:\n",
    "        print(link.get(\"href\"))\n",
    "    "
   ]
  },
  {
   "cell_type": "code",
   "execution_count": null,
   "metadata": {
    "collapsed": true
   },
   "outputs": [],
   "source": [
    "def html_structure(url):\n",
    "#     print(soup.prettify())\n",
    "    \n",
    "    print(f'title:{soup.title}\\n')\n",
    "    \n",
    "    print(f'title name:{soup.title.name}\\n')\n",
    "    \n",
    "    print(f'title string:{soup.title.string}\\n')\n",
    "    \n",
    "    print(f'title parent name:{soup.title.parent.name}\\n')\n",
    "    \n",
    "    print(f'p:{soup.p}\\n')\n",
    "\n",
    "    print(f'p[class]:{soup.p[\"class\"]}\\n')\n",
    "    "
   ]
  },
  {
   "cell_type": "code",
   "execution_count": null,
   "metadata": {
    "collapsed": true
   },
   "outputs": [],
   "source": [
    "def find_specific_value(tag,attrb):\n",
    "    \n",
    "    text_in_list=[]\n",
    "    L=soup.find_all(tag,attrs=attrb)\n",
    "    for m in L:\n",
    "#         print(f'{m.text}\\n')\n",
    "        text_in_list.append(m.text)\n",
    "    \n",
    "#     print(f'test list:\\n{text_in_list}')\n",
    "#     print(f'With tags:\\n{L}')\n",
    "    \n",
    "    return text_in_list\n",
    " "
   ]
  },
  {
   "cell_type": "code",
   "execution_count": null,
   "metadata": {
    "collapsed": true
   },
   "outputs": [],
   "source": [
    "def get_data_from_site(url,tag,attrb):\n",
    "    \"\"\"gets data from website and returns datetime stamped dataframe \"\"\"\n",
    "    \n",
    "    a={}\n",
    "    for q in range(3):\n",
    "\n",
    "        open_site(url)\n",
    "\n",
    "        text_items=find_specific_value(tag=tag,attrb=attrb)\n",
    "        bcp=text_items\n",
    "        now=dt.datetime.today().strftime('%Y-%m-%d,%I:%M:%S %p')\n",
    "        a[now]=bcp\n",
    "\n",
    "        print(a)\n",
    "\n",
    "        time.sleep(5)\n",
    "    \n",
    "    df=pd.DataFrame.from_dict(a,orient='index',columns=['X']) \n",
    "    \n",
    "    return df\n",
    "    "
   ]
  },
  {
   "cell_type": "markdown",
   "metadata": {},
   "source": [
    "# Main"
   ]
  },
  {
   "cell_type": "code",
   "execution_count": null,
   "metadata": {
    "collapsed": true
   },
   "outputs": [],
   "source": [
    "url = \"http://www.hubertiming.com/results/2017GPTR10K\"\n",
    "url = \"https://finance.yahoo.com/quote/AMZN?p=AMZN&.tsrc=fin-srch\"\n",
    "url=\"https://finance.yahoo.com/lookup/\"\n",
    "url=\"https://finance.yahoo.com/\"\n",
    "url=\"https://www.nfl.com/gamecenter/2019102008/2019/REG7/chargers@titans\""
   ]
  },
  {
   "cell_type": "code",
   "execution_count": null,
   "metadata": {},
   "outputs": [],
   "source": [
    "global html,soup\n",
    "html = urlopen(url)\n",
    "soup = BeautifulSoup(html, 'html.parser')"
   ]
  },
  {
   "cell_type": "code",
   "execution_count": null,
   "metadata": {
    "scrolled": true
   },
   "outputs": [],
   "source": [
    "access_site(url=url)"
   ]
  },
  {
   "cell_type": "code",
   "execution_count": null,
   "metadata": {
    "collapsed": true
   },
   "outputs": [],
   "source": []
  },
  {
   "cell_type": "code",
   "execution_count": null,
   "metadata": {
    "scrolled": false
   },
   "outputs": [],
   "source": [
    "tag='div'\n",
    "\n",
    "tag='a'\n",
    "tag='td'\n",
    "# tag='span'\n",
    "attrb={'class':{'_3wU53n','hGSR34','_1vC4OE _2rQ-NK'}}\n",
    "attrb={'data':'158'}\n",
    "# attrb={'data-reactid':'31'}\n",
    "text_items=find_specific_value(tag=tag,attrb=attrb)\n",
    "\n",
    "bcp=text_items\n",
    "print(f'bcp:{bcp}')"
   ]
  },
  {
   "cell_type": "code",
   "execution_count": null,
   "metadata": {
    "collapsed": true,
    "deletable": false,
    "editable": false,
    "run_control": {
     "frozen": true
    },
    "scrolled": false
   },
   "outputs": [],
   "source": [
    "get_all_href(url=url)"
   ]
  },
  {
   "cell_type": "code",
   "execution_count": null,
   "metadata": {
    "collapsed": true,
    "deletable": false,
    "editable": false,
    "run_control": {
     "frozen": true
    },
    "scrolled": false
   },
   "outputs": [],
   "source": [
    "html_structure(url=url)"
   ]
  },
  {
   "cell_type": "code",
   "execution_count": null,
   "metadata": {
    "collapsed": true,
    "deletable": false,
    "editable": false,
    "run_control": {
     "frozen": true
    }
   },
   "outputs": [],
   "source": [
    "L=soup.find_all(tag,attrs=attrb)\n",
    "for m in L:\n",
    "    print(m.text)"
   ]
  },
  {
   "cell_type": "markdown",
   "metadata": {},
   "source": [
    "# Extras"
   ]
  },
  {
   "cell_type": "code",
   "execution_count": null,
   "metadata": {},
   "outputs": [],
   "source": [
    "L=soup.find_all(class_='css-0')"
   ]
  },
  {
   "cell_type": "code",
   "execution_count": null,
   "metadata": {
    "scrolled": false
   },
   "outputs": [],
   "source": [
    "L"
   ]
  },
  {
   "cell_type": "code",
   "execution_count": null,
   "metadata": {
    "collapsed": true
   },
   "outputs": [],
   "source": []
  },
  {
   "cell_type": "code",
   "execution_count": null,
   "metadata": {},
   "outputs": [],
   "source": [
    "v=get_data_from_site(url,'td',{'class':'css-12wm28n'})"
   ]
  },
  {
   "cell_type": "code",
   "execution_count": null,
   "metadata": {
    "collapsed": true
   },
   "outputs": [],
   "source": []
  },
  {
   "cell_type": "code",
   "execution_count": null,
   "metadata": {},
   "outputs": [],
   "source": [
    "text_items"
   ]
  },
  {
   "cell_type": "code",
   "execution_count": null,
   "metadata": {},
   "outputs": [],
   "source": [
    "text_items.index('8,313.76')"
   ]
  },
  {
   "cell_type": "code",
   "execution_count": null,
   "metadata": {},
   "outputs": [],
   "source": [
    "\n",
    "for t in soup.find_all('a',{'aria-label':True}):\n",
    "    print (t.get_attribute_list('aria-label')[0])\n",
    "    "
   ]
  },
  {
   "cell_type": "code",
   "execution_count": null,
   "metadata": {
    "collapsed": true
   },
   "outputs": [],
   "source": [
    "c=\"Fz(s) Ell Fw(600) C($c-fuji-blue-1-b)\"\n",
    "for k in soup.find_all(class_=\"dt-row Bgc($extraLightBlue):h BdB Bdbc($finLightGrayAlt) Bdbc($tableBorderBlue):h H(44px) \"):\n",
    "    print(f'{k.text}\\n')"
   ]
  },
  {
   "cell_type": "code",
   "execution_count": null,
   "metadata": {},
   "outputs": [],
   "source": [
    "soup.find_all(class_=\"Trsdu(0.3s) Fw(500)\")"
   ]
  },
  {
   "cell_type": "code",
   "execution_count": null,
   "metadata": {
    "collapsed": true
   },
   "outputs": [],
   "source": []
  },
  {
   "cell_type": "code",
   "execution_count": null,
   "metadata": {},
   "outputs": [],
   "source": [
    "\n",
    "for k in soup.find('a',{'title':'Dow 30'}).find_all():\n",
    "    print(f'{k}\\n')"
   ]
  },
  {
   "cell_type": "code",
   "execution_count": null,
   "metadata": {},
   "outputs": [],
   "source": [
    "for k in soup.find_all(tag,attrb):\n",
    "    print(f'{k.contents}\\n')"
   ]
  },
  {
   "cell_type": "code",
   "execution_count": null,
   "metadata": {
    "scrolled": false
   },
   "outputs": [],
   "source": [
    "soup.find_all(lambda x: x.get_text()=='Dow 30')"
   ]
  },
  {
   "cell_type": "code",
   "execution_count": null,
   "metadata": {},
   "outputs": [],
   "source": [
    "for t in soup.find_all('a',{'aria-label':True}):\n",
    "    print (t.get_attribute_list('aria-label')[0])"
   ]
  }
 ],
 "metadata": {
  "hide_input": false,
  "kernelspec": {
   "display_name": "Python 3",
   "language": "python",
   "name": "python3"
  },
  "language_info": {
   "codemirror_mode": {
    "name": "ipython",
    "version": 3
   },
   "file_extension": ".py",
   "mimetype": "text/x-python",
   "name": "python",
   "nbconvert_exporter": "python",
   "pygments_lexer": "ipython3",
   "version": "3.6.3"
  },
  "latex_envs": {
   "LaTeX_envs_menu_present": true,
   "autoclose": false,
   "autocomplete": true,
   "bibliofile": "biblio.bib",
   "cite_by": "apalike",
   "current_citInitial": 1,
   "eqLabelWithNumbers": true,
   "eqNumInitial": 1,
   "hotkeys": {
    "equation": "Ctrl-E",
    "itemize": "Ctrl-I"
   },
   "labels_anchors": false,
   "latex_user_defs": false,
   "report_style_numbering": false,
   "user_envs_cfg": false
  },
  "toc": {
   "base_numbering": 1,
   "nav_menu": {},
   "number_sections": true,
   "sideBar": true,
   "skip_h1_title": false,
   "title_cell": "Table of Contents",
   "title_sidebar": "Contents",
   "toc_cell": false,
   "toc_position": {
    "height": "calc(100% - 180px)",
    "left": "10px",
    "top": "150px",
    "width": "165px"
   },
   "toc_section_display": true,
   "toc_window_display": true
  },
  "varInspector": {
   "cols": {
    "lenName": 16,
    "lenType": 16,
    "lenVar": 40
   },
   "kernels_config": {
    "python": {
     "delete_cmd_postfix": "",
     "delete_cmd_prefix": "del ",
     "library": "var_list.py",
     "varRefreshCmd": "print(var_dic_list())"
    },
    "r": {
     "delete_cmd_postfix": ") ",
     "delete_cmd_prefix": "rm(",
     "library": "var_list.r",
     "varRefreshCmd": "cat(var_dic_list()) "
    }
   },
   "types_to_exclude": [
    "module",
    "function",
    "builtin_function_or_method",
    "instance",
    "_Feature"
   ],
   "window_display": false
  }
 },
 "nbformat": 4,
 "nbformat_minor": 2
}
