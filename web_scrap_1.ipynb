{
 "cells": [
  {
   "cell_type": "markdown",
   "metadata": {},
   "source": [
    "# Dependancies"
   ]
  },
  {
   "cell_type": "code",
   "execution_count": 2,
   "metadata": {
    "ExecuteTime": {
     "end_time": "2019-10-13T18:25:55.170346Z",
     "start_time": "2019-10-13T18:25:22.776493Z"
    },
    "collapsed": true
   },
   "outputs": [],
   "source": [
    "import pandas as pd\n",
    "import numpy as np\n",
    "import matplotlib.pyplot as plt\n",
    "import seaborn as sns"
   ]
  },
  {
   "cell_type": "code",
   "execution_count": 3,
   "metadata": {
    "ExecuteTime": {
     "end_time": "2019-10-13T18:25:58.076512Z",
     "start_time": "2019-10-13T18:25:55.175346Z"
    },
    "collapsed": true
   },
   "outputs": [],
   "source": [
    "from urllib.request import urlopen\n",
    "from bs4 import BeautifulSoup"
   ]
  },
  {
   "cell_type": "code",
   "execution_count": 4,
   "metadata": {
    "ExecuteTime": {
     "end_time": "2019-10-13T18:25:58.096513Z",
     "start_time": "2019-10-13T18:25:58.081513Z"
    },
    "collapsed": true
   },
   "outputs": [],
   "source": [
    "import re"
   ]
  },
  {
   "cell_type": "markdown",
   "metadata": {},
   "source": [
    "# Functions"
   ]
  },
  {
   "cell_type": "code",
   "execution_count": 5,
   "metadata": {
    "ExecuteTime": {
     "end_time": "2019-10-13T18:25:58.155517Z",
     "start_time": "2019-10-13T18:25:58.111514Z"
    },
    "collapsed": true
   },
   "outputs": [],
   "source": [
    "def access_site(url):\n",
    "    \n",
    "    t1=soup.find_all('title')\n",
    "    for t in t1:\n",
    "        print(f'Title:{t.get_text()}\\n')\n",
    "    \n",
    "    try:\n",
    "        t2=soup.h1.get_text()\n",
    "        print(f'h1 Text: {t2}\\n')\n",
    "    except AttributeError as e:\n",
    "        print(f'Received the following error message while trying to get the h1 tag:\\n{e}\\n')\n",
    "    \n",
    "   "
   ]
  },
  {
   "cell_type": "code",
   "execution_count": 6,
   "metadata": {
    "ExecuteTime": {
     "end_time": "2019-10-13T18:25:58.192519Z",
     "start_time": "2019-10-13T18:25:58.176518Z"
    },
    "collapsed": true
   },
   "outputs": [],
   "source": [
    "def get_all_href(url):\n",
    "    \n",
    "    all_links = soup.find_all(\"a\")\n",
    "    for link in all_links:\n",
    "        print(link.get(\"href\"))\n",
    "    "
   ]
  },
  {
   "cell_type": "code",
   "execution_count": 7,
   "metadata": {
    "ExecuteTime": {
     "end_time": "2019-10-13T18:25:58.249522Z",
     "start_time": "2019-10-13T18:25:58.218520Z"
    }
   },
   "outputs": [],
   "source": [
    "def html_structure(url):\n",
    "#     print(soup.prettify())\n",
    "    \n",
    "    print(f'title:{soup.title}\\n')\n",
    "    \n",
    "    print(f'title name:{soup.title.name}\\n')\n",
    "    \n",
    "    print(f'title string:{soup.title.string}\\n')\n",
    "    \n",
    "    print(f'title parent name:{soup.title.parent.name}\\n')\n",
    "    \n",
    "    print(f'p:{soup.p}\\n')\n",
    "\n",
    "    print(f'p[class]:{soup.p[\"class\"]}\\n')\n",
    "    "
   ]
  },
  {
   "cell_type": "code",
   "execution_count": 23,
   "metadata": {
    "ExecuteTime": {
     "end_time": "2019-10-13T18:46:09.645810Z",
     "start_time": "2019-10-13T18:46:09.624809Z"
    }
   },
   "outputs": [],
   "source": [
    "def find_specific_value(tag,attrb):\n",
    "    \n",
    "    L=soup.find_all(tag,attrs=attrb)\n",
    "    for m in L:\n",
    "        print(f'{m.text}\\n')\n",
    "    \n",
    "    print(L)\n",
    " "
   ]
  },
  {
   "cell_type": "markdown",
   "metadata": {},
   "source": [
    "# Main"
   ]
  },
  {
   "cell_type": "code",
   "execution_count": 24,
   "metadata": {
    "ExecuteTime": {
     "end_time": "2019-10-13T18:46:13.397025Z",
     "start_time": "2019-10-13T18:46:13.390024Z"
    },
    "collapsed": true
   },
   "outputs": [],
   "source": [
    "url = \"http://www.hubertiming.com/results/2017GPTR10K\"\n",
    "url = \"https://finance.yahoo.com/quote/AMZN?p=AMZN&.tsrc=fin-srch\"\n",
    "url=\"https://finance.yahoo.com/lookup/\"\n",
    "# url=\"https://www.flipkart.com/laptops/~buyback-guarantee-on-laptops-/pr?sid=6bo%2Cb5g&uniqBStoreParam1=val1&wid=11.productCard.PMU_V2\"\n",
    "# url=\"https://www.edureka.co/blog/web-scraping-with-python\"\n"
   ]
  },
  {
   "cell_type": "code",
   "execution_count": 11,
   "metadata": {
    "ExecuteTime": {
     "end_time": "2019-10-13T18:26:11.877302Z",
     "start_time": "2019-10-13T18:26:07.513052Z"
    }
   },
   "outputs": [],
   "source": [
    "global html,soup\n",
    "html = urlopen(url)\n",
    "soup = BeautifulSoup(html, 'lxml')"
   ]
  },
  {
   "cell_type": "code",
   "execution_count": 12,
   "metadata": {
    "ExecuteTime": {
     "end_time": "2019-10-13T18:26:14.125430Z",
     "start_time": "2019-10-13T18:26:14.088428Z"
    },
    "scrolled": true
   },
   "outputs": [
    {
     "name": "stdout",
     "output_type": "stream",
     "text": [
      "Title:Symbol Lookup from Yahoo Finance\n",
      "\n",
      "Received the following error message while trying to get the h1 tag:\n",
      "'NoneType' object has no attribute 'get_text'\n",
      "\n"
     ]
    }
   ],
   "source": [
    "access_site(url=url)"
   ]
  },
  {
   "cell_type": "code",
   "execution_count": null,
   "metadata": {
    "deletable": false,
    "editable": false,
    "run_control": {
     "frozen": true
    },
    "scrolled": false
   },
   "outputs": [],
   "source": [
    "get_all_href(url=url)"
   ]
  },
  {
   "cell_type": "code",
   "execution_count": null,
   "metadata": {
    "deletable": false,
    "editable": false,
    "run_control": {
     "frozen": true
    },
    "scrolled": false
   },
   "outputs": [],
   "source": [
    "html_structure(url=url)"
   ]
  },
  {
   "cell_type": "code",
   "execution_count": 28,
   "metadata": {
    "ExecuteTime": {
     "end_time": "2019-10-13T18:48:25.648589Z",
     "start_time": "2019-10-13T18:48:25.594586Z"
    },
    "scrolled": true
   },
   "outputs": [
    {
     "name": "stdout",
     "output_type": "stream",
     "text": [
      "Dow 3026,816.59+1.21%\n",
      "\n",
      "[<a aria-label=\"Dow 30 has increased by 1.21% or 319.89 points to 26,816.59 points\" class=\"C(black) Fw(500) Fz(m) Td(n) Pend(34px) Pstart(10px) D(b)\" data-reactid=\"10\" href=\"/quote/^DJI?p=^DJI\" title=\"Dow 30\"><!-- react-text: 11 -->Dow 30<!-- /react-text --><span class=\"Trsdu(0.3s) Fz(s) Mb(0px) D(b)\" data-reactid=\"12\">26,816.59</span><span class=\"Trsdu(0.3s) Fz(s) D(b) C($dataGreen)\" data-reactid=\"13\">+1.21%</span></a>]\n"
     ]
    }
   ],
   "source": [
    "tag='div'\n",
    "tag='span'\n",
    "tag='a'\n",
    "attrb={'class':{'_3wU53n','hGSR34','_1vC4OE _2rQ-NK'}}\n",
    "attrb={'class':[\"Trsdu(0.3s)\", \"Fz(s)\", \"Mt(4px)\", \"Mb(0px)\", \"Fw(b)\", \"D(ib)\"]}\n",
    "attrb={'title':\"Dow 30\"}\n",
    "# attrb={'data-reactid':'31'}\n",
    "find_specific_value(tag=tag,attrb=attrb)\n"
   ]
  },
  {
   "cell_type": "code",
   "execution_count": null,
   "metadata": {
    "deletable": false,
    "editable": false,
    "run_control": {
     "frozen": true
    }
   },
   "outputs": [],
   "source": [
    "L=soup.find_all(tag,attrs=attrb)\n",
    "for m in L:\n",
    "    print(m.text)"
   ]
  },
  {
   "cell_type": "markdown",
   "metadata": {},
   "source": [
    "# Extras"
   ]
  },
  {
   "cell_type": "code",
   "execution_count": 40,
   "metadata": {
    "ExecuteTime": {
     "end_time": "2019-10-13T19:03:29.683297Z",
     "start_time": "2019-10-13T19:03:29.635294Z"
    }
   },
   "outputs": [
    {
     "ename": "AttributeError",
     "evalue": "'NoneType' object has no attribute 'find_all'",
     "output_type": "error",
     "traceback": [
      "\u001b[1;31m---------------------------------------------------------------------------\u001b[0m",
      "\u001b[1;31mAttributeError\u001b[0m                            Traceback (most recent call last)",
      "\u001b[1;32m<ipython-input-40-a2624e604654>\u001b[0m in \u001b[0;36m<module>\u001b[1;34m()\u001b[0m\n\u001b[0;32m      1\u001b[0m \u001b[1;33m\u001b[0m\u001b[0m\n\u001b[1;32m----> 2\u001b[1;33m \u001b[1;32mfor\u001b[0m \u001b[0mk\u001b[0m \u001b[1;32min\u001b[0m \u001b[0msoup\u001b[0m\u001b[1;33m.\u001b[0m\u001b[0mfind\u001b[0m\u001b[1;33m(\u001b[0m\u001b[1;34m'a'\u001b[0m\u001b[1;33m,\u001b[0m\u001b[1;33m{\u001b[0m\u001b[1;34m'data-reactid'\u001b[0m\u001b[1;33m:\u001b[0m\u001b[1;34m'31'\u001b[0m\u001b[1;33m}\u001b[0m\u001b[1;33m)\u001b[0m\u001b[1;33m.\u001b[0m\u001b[0mfind_all\u001b[0m\u001b[1;33m(\u001b[0m\u001b[1;33m)\u001b[0m\u001b[1;33m:\u001b[0m\u001b[1;33m\u001b[0m\u001b[0m\n\u001b[0m\u001b[0;32m      3\u001b[0m     \u001b[0mprint\u001b[0m\u001b[1;33m(\u001b[0m\u001b[1;34mf'{k}\\n'\u001b[0m\u001b[1;33m)\u001b[0m\u001b[1;33m\u001b[0m\u001b[0m\n",
      "\u001b[1;31mAttributeError\u001b[0m: 'NoneType' object has no attribute 'find_all'"
     ]
    }
   ],
   "source": [
    "\n",
    "for k in soup.find('a',{'title':'Dow 30'}).find_all():\n",
    "    print(f'{k}\\n')"
   ]
  },
  {
   "cell_type": "code",
   "execution_count": 27,
   "metadata": {
    "ExecuteTime": {
     "end_time": "2019-10-13T18:48:14.196934Z",
     "start_time": "2019-10-13T18:48:14.174933Z"
    }
   },
   "outputs": [
    {
     "name": "stdout",
     "output_type": "stream",
     "text": [
      "[' react-text: 11 ', 'Dow 30', ' /react-text ', <span class=\"Trsdu(0.3s) Fz(s) Mb(0px) D(b)\" data-reactid=\"12\">26,816.59</span>, <span class=\"Trsdu(0.3s) Fz(s) D(b) C($dataGreen)\" data-reactid=\"13\">+1.21%</span>]\n",
      "\n"
     ]
    }
   ],
   "source": [
    "for k in soup.find_all(tag,attrb):\n",
    "    print(f'{k.contents}\\n')"
   ]
  },
  {
   "cell_type": "code",
   "execution_count": 26,
   "metadata": {
    "ExecuteTime": {
     "end_time": "2019-10-13T18:48:10.102700Z",
     "start_time": "2019-10-13T18:48:10.037696Z"
    }
   },
   "outputs": [],
   "source": [
    "c=\"Fz(s) Ell Fw(600) C($c-fuji-blue-1-b)\"\n",
    "for k in soup.find_all(class_=\"Fz(s) Ell Fw(600) C($c-fuji-blue-1-b)\"):\n",
    "    print(f'{k.text}\\n') "
   ]
  },
  {
   "cell_type": "code",
   "execution_count": 33,
   "metadata": {
    "ExecuteTime": {
     "end_time": "2019-10-13T18:57:13.636788Z",
     "start_time": "2019-10-13T18:57:13.610787Z"
    },
    "scrolled": false
   },
   "outputs": [
    {
     "data": {
      "text/plain": [
       "[]"
      ]
     },
     "execution_count": 33,
     "metadata": {},
     "output_type": "execute_result"
    }
   ],
   "source": [
    "soup.find_all(lambda x: x.get_text()=='Dow 30')"
   ]
  },
  {
   "cell_type": "code",
   "execution_count": 74,
   "metadata": {
    "ExecuteTime": {
     "end_time": "2019-10-13T19:46:32.622197Z",
     "start_time": "2019-10-13T19:46:32.594196Z"
    }
   },
   "outputs": [
    {
     "name": "stdout",
     "output_type": "stream",
     "text": [
      "S&P 500 has increased by 1.09% or 32.14 points to 2,970.27 points\n",
      "Dow 30 has increased by 1.21% or 319.89 points to 26,816.59 points\n",
      "Nasdaq has increased by 1.34% or 106.26 points to 8,057.04 points\n",
      "Russell 2000 has increased by 1.79% or 26.54 points to 1,511.90 points\n",
      "Crude Oil has increased by 2.54% or 1.36 points to 54.91 points\n",
      "Gold has decreased by -0.49% or -7.40 points to 1,493.50 points\n",
      "Silver has decreased by -0.18% or -0.03 points to 17.57 points\n",
      "EUR/USD has decreased by -0.1103% or -0.0012 points to 1.1034 points\n",
      "10-Yr Bond has increased by 5.67% or 0.0940 points to 1.7520 points\n",
      "Vix has decreased by -11.33% or -1.99 points to 15.58 points\n",
      "GBP/USD has decreased by -0.0278% or -0.0004 points to 1.2637 points\n",
      "USD/JPY has decreased by -0.0092% or -0.0100 points to 108.3500 points\n",
      " has increased by 1.73% or 143.73 points to 8,460.73 points\n",
      "FTSE 100 has increased by 0.84% or 60.72 points to 7,247.08 points\n",
      "Nikkei 225 has increased by 1.15% or 246.87 points to 21,798.87 points\n"
     ]
    }
   ],
   "source": [
    "\n",
    "for t in soup.find_all('a',{'aria-label':True}):\n",
    "    print (t.get_attribute_list('aria-label')[0])\n",
    "    "
   ]
  },
  {
   "cell_type": "code",
   "execution_count": null,
   "metadata": {
    "collapsed": true
   },
   "outputs": [],
   "source": [
    "find({'class':[\"Fz(s)\",\"Ell\",\"Fw(600)\",\"C($c-fuji-blue-1-b)\"]})"
   ]
  }
 ],
 "metadata": {
  "hide_input": false,
  "kernelspec": {
   "display_name": "Python 3",
   "language": "python",
   "name": "python3"
  },
  "language_info": {
   "codemirror_mode": {
    "name": "ipython",
    "version": 3
   },
   "file_extension": ".py",
   "mimetype": "text/x-python",
   "name": "python",
   "nbconvert_exporter": "python",
   "pygments_lexer": "ipython3",
   "version": "3.6.3"
  },
  "latex_envs": {
   "LaTeX_envs_menu_present": true,
   "autoclose": false,
   "autocomplete": true,
   "bibliofile": "biblio.bib",
   "cite_by": "apalike",
   "current_citInitial": 1,
   "eqLabelWithNumbers": true,
   "eqNumInitial": 1,
   "hotkeys": {
    "equation": "Ctrl-E",
    "itemize": "Ctrl-I"
   },
   "labels_anchors": false,
   "latex_user_defs": false,
   "report_style_numbering": false,
   "user_envs_cfg": false
  },
  "toc": {
   "base_numbering": 1,
   "nav_menu": {},
   "number_sections": true,
   "sideBar": true,
   "skip_h1_title": false,
   "title_cell": "Table of Contents",
   "title_sidebar": "Contents",
   "toc_cell": false,
   "toc_position": {
    "height": "calc(100% - 180px)",
    "left": "10px",
    "top": "150px",
    "width": "165px"
   },
   "toc_section_display": true,
   "toc_window_display": true
  },
  "varInspector": {
   "cols": {
    "lenName": 16,
    "lenType": 16,
    "lenVar": 40
   },
   "kernels_config": {
    "python": {
     "delete_cmd_postfix": "",
     "delete_cmd_prefix": "del ",
     "library": "var_list.py",
     "varRefreshCmd": "print(var_dic_list())"
    },
    "r": {
     "delete_cmd_postfix": ") ",
     "delete_cmd_prefix": "rm(",
     "library": "var_list.r",
     "varRefreshCmd": "cat(var_dic_list()) "
    }
   },
   "types_to_exclude": [
    "module",
    "function",
    "builtin_function_or_method",
    "instance",
    "_Feature"
   ],
   "window_display": false
  }
 },
 "nbformat": 4,
 "nbformat_minor": 2
}
